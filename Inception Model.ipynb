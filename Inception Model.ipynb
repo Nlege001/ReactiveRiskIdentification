{
 "cells": [
  {
   "cell_type": "code",
   "execution_count": 1,
   "id": "5421da18",
   "metadata": {},
   "outputs": [],
   "source": [
    "import numpy as np \n",
    "import pandas as pd \n",
    "import os\n",
    "from keras import layers\n",
    "from keras import models\n",
    "from tensorflow.keras.utils import to_categorical\n",
    "import matplotlib.pyplot as plt\n",
    "from os import listdir, makedirs\n",
    "from keras.callbacks import ModelCheckpoint\n",
    "from keras.preprocessing.image import ImageDataGenerator\n",
    "# from keras.applications import VGG16, ResNet50, VGG19, InceptionV3, MobileNetV2\n",
    "from keras.models import Sequential\n",
    "from keras.layers import Dense, Flatten, Dropout, Conv2D, Activation, MaxPooling2D, BatchNormalization\n",
    "from keras import optimizers, regularizers\n",
    "from tensorflow.keras.optimizers import SGD\n",
    "from glob import glob\n",
    "import cv2\n",
    "import glob\n",
    "from keras import backend as K\n",
    "import numpy as np \n",
    "import pandas as pd \n",
    "import os\n",
    "from keras import layers\n",
    "from keras import models, Sequential\n",
    "import matplotlib.pyplot as plt\n",
    "from os import listdir, makedirs\n",
    "from keras.callbacks import ModelCheckpoint\n",
    "from keras.preprocessing.image import ImageDataGenerator\n",
    "from keras.models import Sequential\n",
    "from keras.layers import Dense, Flatten, Dropout\n",
    "from keras.preprocessing.image import load_img\n",
    "from keras import optimizers, regularizers\n",
    "from glob import glob\n",
    "import cv2\n",
    "from keras.callbacks import EarlyStopping, Callback\n",
    "from keras.preprocessing import image\n",
    "from keras.applications.inception_v3 import preprocess_input\n",
    "from keras.applications.imagenet_utils import preprocess_input, decode_predictions\n",
    "from keras.models import load_model\n",
    "import h5py\n",
    "from PIL import Image\n",
    "from sklearn.model_selection import train_test_split"
   ]
  },
  {
   "cell_type": "code",
   "execution_count": 2,
   "id": "dc49fdc2",
   "metadata": {},
   "outputs": [
    {
     "name": "stdout",
     "output_type": "stream",
     "text": [
      "['imgs', '.sample_submission.csv.icloud', 'driver_imgs_list.csv']\n"
     ]
    }
   ],
   "source": [
    "print(os.listdir('/Users/rutviktarikere/Desktop/statefarm/'))\n",
    "data_dir = '/Users/rutviktarikere/Desktop/statefarm/'"
   ]
  },
  {
   "cell_type": "code",
   "execution_count": 3,
   "id": "acbce7e0",
   "metadata": {},
   "outputs": [
    {
     "name": "stdout",
     "output_type": "stream",
     "text": [
      "Found 15702 images belonging to 10 classes.\n",
      "Found 6722 images belonging to 10 classes.\n"
     ]
    }
   ],
   "source": [
    "RESOLUTION = 150\n",
    "BATCH_SIZE = 64\n",
    "\n",
    "train_datagen = ImageDataGenerator(rescale=1./255, validation_split=0.3,)\n",
    "val_datagen = ImageDataGenerator(rescale=1./255, validation_split=0.3)\n",
    "\n",
    "train_generator = train_datagen.flow_from_directory('/Users/rutviktarikere/Desktop/statefarm/imgs/train/', target_size=(160, 120), batch_size=BATCH_SIZE, class_mode='categorical', subset=\"training\", color_mode='grayscale')\n",
    "val_generator = val_datagen.flow_from_directory('/Users/rutviktarikere/Desktop/statefarm/imgs/train/', target_size=(160, 120), batch_size=BATCH_SIZE, class_mode='categorical', subset=\"validation\",  color_mode='grayscale')"
   ]
  },
  {
   "cell_type": "code",
   "execution_count": 4,
   "id": "3b978820",
   "metadata": {},
   "outputs": [],
   "source": [
    "def read_image(path):\n",
    "    image = cv2.imread(path, cv2.IMREAD_COLOR)\n",
    "    image = cv2.cvtColor(image, cv2.COLOR_BGR2RGB)\n",
    "    return image\n",
    "\n",
    "labels = ['c0', 'c1', 'c2', 'c3', 'c4', 'c5', 'c6', 'c7', 'c8', 'c9']\n",
    "col = {'c0': 'safe driving', 'c1': 'texting - right', 'c2': 'talking on the phone - right', 'c3': 'texting - left', 'c4': 'talking on the phone - left', 'c5':'operating the radio', 'c6': 'drinking', 'c7': 'reaching behind', 'c8': 'hair and makeup', 'c9': 'talking to passenger'}"
   ]
  },
  {
   "cell_type": "code",
   "execution_count": null,
   "id": "e11687c0",
   "metadata": {},
   "outputs": [],
   "source": [
    "# skip\n",
    "for label in labels:\n",
    "    f, ax = plt.subplots(figsize=(12, 10))\n",
    "    files = glob('{}/train/{}/*.jpg'.format(data_dir, label))\n",
    "    \n",
    "    print('\\t\\t\\t\\t# {} : {}'.format(label, col[label]))\n",
    "    for x in range(9):\n",
    "        plt.subplot(3, 3, x+1)\n",
    "        image = read_image(files[x])\n",
    "        plt.imshow(image)\n",
    "        plt.axis('off')\n",
    "    plt.show()"
   ]
  },
  {
   "cell_type": "code",
   "execution_count": 5,
   "id": "ec1b020d",
   "metadata": {},
   "outputs": [],
   "source": [
    "def create_model():\n",
    "    model = Sequential()\n",
    "    # Use Batch Normalization for every conv and dense layers\n",
    "    model.add(Conv2D(64, kernel_size = (3,3), activation = 'relu', input_shape = (160, 120, 1)))\n",
    "    model.add(BatchNormalization())\n",
    "    model.add(Dropout(0.25))\n",
    "    model.add(Conv2D(64, kernel_size = (3,3), activation = 'relu'))\n",
    "    model.add(BatchNormalization())\n",
    "    model.add(MaxPooling2D(pool_size=(2,2)))\n",
    "    model.add(Conv2D(128, kernel_size = (3,3), activation = 'relu'))\n",
    "    model.add(BatchNormalization())\n",
    "    model.add(Dropout(0.25))\n",
    "    model.add(Conv2D(128, kernel_size = (3,3), activation = 'relu'))\n",
    "    model.add(BatchNormalization())\n",
    "    model.add(MaxPooling2D(pool_size=(2,2)))\n",
    "    model.add(Flatten())\n",
    "    model.add(Dense(64, activation = 'relu'))\n",
    "    model.add(BatchNormalization())\n",
    "    model.add(Dropout(0.33))\n",
    "    model.add(Dense(32, activation = 'relu'))\n",
    "    model.add(BatchNormalization())\n",
    "    model.add(Dense(10, activation = 'softmax')) \n",
    "    model.compile(loss= 'categorical_crossentropy' , optimizer= 'adam' , metrics=[ 'accuracy' ])\n",
    "    return model"
   ]
  },
  {
   "cell_type": "code",
   "execution_count": 6,
   "id": "b95a84be",
   "metadata": {},
   "outputs": [],
   "source": [
    "def train(model, filepath):\n",
    "    checkpoint = ModelCheckpoint(filepath, monitor = 'val_accuracy', verbose = 1, save_best_only  = True, mode = 'max')\n",
    "    callbacks_list = [checkpoint]\n",
    "    \n",
    "    n_train = 15702\n",
    "    batch_size = 300\n",
    "    n_valid = 6722\n",
    "    history = model.fit_generator(\n",
    "           train_generator,\n",
    "           steps_per_epoch=n_train//batch_size,\n",
    "           epochs=10,\n",
    "           validation_data=val_generator,\n",
    "           validation_steps=n_valid//batch_size,  callbacks=callbacks_list)\n",
    "    \n",
    "    \n",
    "    # Plot\n",
    "    acc = history.history['accuracy']\n",
    "    val_acc = history.history['val_accuracy']\n",
    "    loss = history.history['loss']\n",
    "    val_loss = history.history['val_loss']\n",
    "    epochs = range(1, len(acc) + 1)\n",
    "    plt.plot(epochs, acc, 'bo', label='Training acc')\n",
    "    plt.plot(epochs, val_acc, 'b', label='Validation acc')\n",
    "    plt.title('Training and validation accuracy')\n",
    "    plt.legend()\n",
    "    plt.figure()\n",
    "    plt.plot(epochs, loss, 'bo', label='Training loss')\n",
    "    plt.plot(epochs, val_loss, 'b', label='Validation loss')\n",
    "    plt.title('Training and validation loss')\n",
    "    plt.legend()\n",
    "    plt.show()\n",
    "\n",
    "    return model"
   ]
  },
  {
   "cell_type": "code",
   "execution_count": 7,
   "id": "7c4e03f3",
   "metadata": {
    "scrolled": false
   },
   "outputs": [
    {
     "name": "stderr",
     "output_type": "stream",
     "text": [
      "/Users/rutviktarikere/opt/anaconda3/lib/python3.8/site-packages/keras/engine/training.py:1915: UserWarning: `Model.fit_generator` is deprecated and will be removed in a future version. Please use `Model.fit`, which supports generators.\n",
      "  warnings.warn('`Model.fit_generator` is deprecated and '\n"
     ]
    },
    {
     "name": "stdout",
     "output_type": "stream",
     "text": [
      "Epoch 1/10\n",
      "52/52 [==============================] - 912s 17s/step - loss: 2.1863 - accuracy: 0.2704 - val_loss: 3.5177 - val_accuracy: 0.0959\n",
      "\n",
      "Epoch 00001: val_accuracy improved from -inf to 0.09588, saving model to weights_best.h5\n",
      "Epoch 2/10\n",
      "52/52 [==============================] - 1003s 19s/step - loss: 0.8878 - accuracy: 0.7856 - val_loss: 23.0862 - val_accuracy: 0.0838\n",
      "\n",
      "Epoch 00002: val_accuracy did not improve from 0.09588\n",
      "Epoch 3/10\n",
      "52/52 [==============================] - 748s 14s/step - loss: 0.4618 - accuracy: 0.9188 - val_loss: 54.2089 - val_accuracy: 0.0923\n",
      "\n",
      "Epoch 00003: val_accuracy did not improve from 0.09588\n",
      "Epoch 4/10\n",
      "52/52 [==============================] - 688s 13s/step - loss: 0.2494 - accuracy: 0.9670 - val_loss: 5.2841 - val_accuracy: 0.1016\n",
      "\n",
      "Epoch 00004: val_accuracy improved from 0.09588 to 0.10156, saving model to weights_best.h5\n",
      "Epoch 5/10\n",
      "52/52 [==============================] - 690s 13s/step - loss: 0.1962 - accuracy: 0.9686 - val_loss: 6.7321 - val_accuracy: 0.1186\n",
      "\n",
      "Epoch 00005: val_accuracy improved from 0.10156 to 0.11861, saving model to weights_best.h5\n",
      "Epoch 6/10\n",
      "52/52 [==============================] - 734s 14s/step - loss: 0.1290 - accuracy: 0.9816 - val_loss: 8.6740 - val_accuracy: 0.0959\n",
      "\n",
      "Epoch 00006: val_accuracy did not improve from 0.11861\n",
      "Epoch 7/10\n",
      "52/52 [==============================] - 700s 13s/step - loss: 0.0899 - accuracy: 0.9923 - val_loss: 8.2205 - val_accuracy: 0.1087\n",
      "\n",
      "Epoch 00007: val_accuracy did not improve from 0.11861\n",
      "Epoch 8/10\n",
      "52/52 [==============================] - 850s 16s/step - loss: 0.0771 - accuracy: 0.9899 - val_loss: 11.0440 - val_accuracy: 0.1335\n",
      "\n",
      "Epoch 00008: val_accuracy improved from 0.11861 to 0.13352, saving model to weights_best.h5\n",
      "Epoch 9/10\n",
      "52/52 [==============================] - 1028s 20s/step - loss: 0.0587 - accuracy: 0.9942 - val_loss: 6.7622 - val_accuracy: 0.1982\n",
      "\n",
      "Epoch 00009: val_accuracy improved from 0.13352 to 0.19815, saving model to weights_best.h5\n",
      "Epoch 10/10\n",
      "52/52 [==============================] - 1159s 22s/step - loss: 0.0466 - accuracy: 0.9951 - val_loss: 15.5856 - val_accuracy: 0.1420\n",
      "\n",
      "Epoch 00010: val_accuracy did not improve from 0.19815\n"
     ]
    },
    {
     "data": {
      "image/png": "[encoded data removed]",
      "text/plain": [
       "<Figure size 432x288 with 1 Axes>"
      ]
     },
     "metadata": {
      "needs_background": "light"
     },
     "output_type": "display_data"
    },
    {
     "data": {
      "image/png": "[encoded data removed]",
      "text/plain": [
       "<Figure size 432x288 with 1 Axes>"
      ]
     },
     "metadata": {
      "needs_background": "light"
     },
     "output_type": "display_data"
    }
   ],
   "source": [
    "# model = create_model()\n",
    "model = train(create_model(), \"weights_best.h5\")"
   ]
  }
 ],
 "metadata": {
  "kernelspec": {
   "display_name": "Python 3",
   "language": "python",
   "name": "python3"
  },
  "language_info": {
   "codemirror_mode": {
    "name": "ipython",
    "version": 3
   },
   "file_extension": ".py",
   "mimetype": "text/x-python",
   "name": "python",
   "nbconvert_exporter": "python",
   "pygments_lexer": "ipython3",
   "version": "3.8.8"
  }
 },
 "nbformat": 4,
 "nbformat_minor": 5
}
