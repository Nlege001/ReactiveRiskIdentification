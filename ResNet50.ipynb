{
 "metadata": {
  "language_info": {
   "codemirror_mode": {
    "name": "ipython",
    "version": 3
   },
   "file_extension": ".py",
   "mimetype": "text/x-python",
   "name": "python",
   "nbconvert_exporter": "python",
   "pygments_lexer": "ipython3",
   "version": "3.7.9"
  },
  "orig_nbformat": 4,
  "kernelspec": {
   "name": "python3",
   "display_name": "Python 3.7.9 64-bit"
  },
  "interpreter": {
   "hash": "7f8c79caef6f500d10f1d53b5233fd35aa3fbbd3a39d10048919692e9c705d27"
  }
 },
 "nbformat": 4,
 "nbformat_minor": 2,
 "cells": [
  {
   "cell_type": "code",
   "execution_count": 1,
   "metadata": {},
   "outputs": [],
   "source": [
    "import os\n",
    "import pandas as pd \n",
    "import numpy as np \n",
    "import matplotlib.pyplot as plt\n",
    "import cv2\n",
    "\n",
    "import tensorflow\n",
    "import tensorflow.keras\n",
    "from tensorflow.keras.models import Sequential\n",
    "from tensorflow.keras import layers, Model, Input\n",
    "from tensorflow.keras.layers import Flatten, Dropout, Dense, GlobalAveragePooling2D\n",
    "from tensorflow.keras.layers import Conv2D, MaxPooling2D\n",
    "from tensorflow.keras.utils import to_categorical\n",
    "from tensorflow.keras.preprocessing import image \n",
    "from keras.layers.normalization import BatchNormalization\n",
    "from tensorflow.keras.models import Model\n",
    "from tensorflow.keras.preprocessing.image import ImageDataGenerator\n",
    "\n",
    "from tensorflow.keras.applications import ResNet50"
   ]
  },
  {
   "cell_type": "code",
   "execution_count": null,
   "metadata": {},
   "outputs": [],
   "source": [
    "img_labels = pd.read_csv(\"data/driver_imgs_list.csv\")\n",
    "\n",
    "train_image = []\n",
    "image_label = []\n",
    "\n",
    "\n",
    "for i in range(10):\n",
    "    imgs = os.listdir(\"data/imgs/train/c\"+str(i))\n",
    "    for j in range(len(imgs)):\n",
    "        img_name = \"data/imgs/train/c\"+str(i)+\"/\"+imgs[j]\n",
    "        img = cv2.imread(img_name)\n",
    "        img = img[50:,120:-50]\n",
    "        img = cv2.resize(img,(224,224))\n",
    "        label = i\n",
    "        driver = img_labels[img_labels['img'] == imgs[j]]['subject'].values[0]\n",
    "        train_image.append([img,label,driver])\n",
    "        image_label.append(i)"
   ]
  },
  {
   "cell_type": "code",
   "execution_count": null,
   "metadata": {},
   "outputs": [],
   "source": [
    "driv_selected = ['p050', 'p015', 'p022', 'p056']"
   ]
  },
  {
   "cell_type": "code",
   "execution_count": null,
   "metadata": {},
   "outputs": [],
   "source": [
    "X_train= []\n",
    "y_train = []\n",
    "X_test = []\n",
    "y_test = []\n",
    "D_train = []\n",
    "D_test = []\n",
    "\n",
    "for features,labels,drivers in train_image:\n",
    "    if drivers in driv_selected:\n",
    "        X_test.append(features)\n",
    "        y_test.append(labels)\n",
    "        D_test.append(drivers)\n",
    "    \n",
    "    else:\n",
    "        X_train.append(features)\n",
    "        y_train.append(labels)\n",
    "        D_train.append(drivers)\n",
    "\n",
    "print (len(X_train),len(X_test))\n",
    "print (len(y_train),len(y_test))\n"
   ]
  },
  {
   "cell_type": "code",
   "execution_count": null,
   "metadata": {},
   "outputs": [],
   "source": [
    "X_train = np.array(X_train).reshape(-1,224,224,3)\n",
    "X_test = np.array(X_test).reshape(-1,224,224,3)\n",
    "y_train = to_categorical(y_train)\n",
    "y_test = to_categorical(y_test)"
   ]
  },
  {
   "cell_type": "code",
   "execution_count": null,
   "metadata": {},
   "outputs": [],
   "source": [
    "datagen = ImageDataGenerator(\n",
    "    height_shift_range=0.5,\n",
    "    width_shift_range = 0.5,\n",
    "    zoom_range = 0.5,\n",
    "    rotation_range=30\n",
    "        )\n",
    "data_generator = datagen.flow(X_train, y_train, batch_size = 128)"
   ]
  },
  {
   "cell_type": "code",
   "execution_count": null,
   "metadata": {
    "tags": []
   },
   "outputs": [],
   "source": [
    "input_shape = Input(shape = (224, 224, 3), name = 'Image_input')\n",
    "model = ResNet50(weights='imagenet', include_top=False, input_tensor = input_shape)\n",
    "\n",
    "model.trainable = False\n",
    "\n",
    "output_model = model(input_shape)\n",
    "x = GlobalAveragePooling2D()(output_model)\n",
    "x = BatchNormalization()(x)\n",
    "x = Dropout(0.1)(x) \n",
    "x = Dense(1024,activation='relu')(x) \n",
    "x = Dropout(0.5)(x)\n",
    "x = Dense(512,activation='relu')(x) \n",
    "x = Dense(10, activation='softmax', name='predictions')(x)\n",
    "\n",
    "resnet = Model(input_shape, x)\n",
    "\n",
    "resnet.compile(loss='categorical_crossentropy', optimizer='adam', metrics=['accuracy'])\n",
    "\n",
    "resnet.summary()\n",
    "\n",
    "# resnet = ResNet50(include_top=False, weights='imagenet', input_shape=(224,224,3))\n",
    "# output = resnet.layers[-1].output\n",
    "# output = layers.Flatten()(output)\n",
    "\n",
    "\n",
    "# resnet = Model(resnet.input, output)\n",
    "\n",
    "\n",
    "# for layer in resnet.layers:\n",
    "#     layer.trainable = False\n",
    "\n",
    "# model = Sequential()\n",
    "\n",
    "# model.add(resnet)\n",
    "\n",
    "# model.add(Dense(512, activation='relu', input_dim=(224,224,3)))\n",
    "# model.add(Dense(512, activation='relu'))\n",
    "# model.add(Dense(10, activation='softmax'))\n",
    "\n",
    "# model.compile(optimizer='adam', loss='categorical_crossentropy', metrics=['accuracy'])\n",
    "\n",
    "# model.summary()"
   ]
  },
  {
   "cell_type": "code",
   "execution_count": null,
   "metadata": {},
   "outputs": [],
   "source": [
    "resnet.fit(data_generator, validation_data=(X_test, y_test), batch_size = 128, epochs=10)"
   ]
  },
  {
   "source": [
    "accNT = mmodel_history.history['accuracy']\n",
    "val_accNT = mmodel_history.history['val_accuracy']\n",
    "lossNT = mmodel_history.history['loss']\n",
    "val_lossNT = mmodel_history.history['val_loss']\n",
    "epochsNT = range(len(accNT))\n",
    "\n",
    "plt.plot(epochsNT, accNT, 'r', label='Training accuracy')\n",
    "plt.plot(epochsNT, val_accNT, 'b', label='Validation accuracy')\n",
    "plt.title('Training and validation accuracy')\n",
    "plt.legend(loc=0)\n",
    "plt.figure()\n",
    "\n",
    "plt.show()\n",
    "\n",
    "plt.plot(epochsNT, lossNT, 'r', label='Training loss')\n",
    "plt.plot(epochsNT, val_lossNT, 'b', label='Validation loss')\n",
    "plt.title('Training and validation loss')\n",
    "plt.legend(loc=0)\n",
    "plt.figure()\n",
    "\n",
    "plt.show()"
   ],
   "cell_type": "code",
   "metadata": {},
   "execution_count": null,
   "outputs": []
  }
 ]
}